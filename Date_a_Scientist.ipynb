{
 "cells": [
  {
   "cell_type": "code",
   "execution_count": 1,
   "metadata": {},
   "outputs": [
    {
     "data": {
      "text/html": [
       "<div>\n",
       "<style scoped>\n",
       "    .dataframe tbody tr th:only-of-type {\n",
       "        vertical-align: middle;\n",
       "    }\n",
       "\n",
       "    .dataframe tbody tr th {\n",
       "        vertical-align: top;\n",
       "    }\n",
       "\n",
       "    .dataframe thead th {\n",
       "        text-align: right;\n",
       "    }\n",
       "</style>\n",
       "<table border=\"1\" class=\"dataframe\">\n",
       "  <thead>\n",
       "    <tr style=\"text-align: right;\">\n",
       "      <th></th>\n",
       "      <th>age</th>\n",
       "      <th>body_type</th>\n",
       "      <th>diet</th>\n",
       "      <th>drinks</th>\n",
       "      <th>drugs</th>\n",
       "      <th>education</th>\n",
       "      <th>essay0</th>\n",
       "      <th>essay1</th>\n",
       "      <th>essay2</th>\n",
       "      <th>essay3</th>\n",
       "      <th>...</th>\n",
       "      <th>location</th>\n",
       "      <th>offspring</th>\n",
       "      <th>orientation</th>\n",
       "      <th>pets</th>\n",
       "      <th>religion</th>\n",
       "      <th>sex</th>\n",
       "      <th>sign</th>\n",
       "      <th>smokes</th>\n",
       "      <th>speaks</th>\n",
       "      <th>status</th>\n",
       "    </tr>\n",
       "  </thead>\n",
       "  <tbody>\n",
       "    <tr>\n",
       "      <th>0</th>\n",
       "      <td>22</td>\n",
       "      <td>a little extra</td>\n",
       "      <td>strictly anything</td>\n",
       "      <td>socially</td>\n",
       "      <td>never</td>\n",
       "      <td>working on college/university</td>\n",
       "      <td>about me:&lt;br /&gt;\\n&lt;br /&gt;\\ni would love to think...</td>\n",
       "      <td>currently working as an international agent fo...</td>\n",
       "      <td>making people laugh.&lt;br /&gt;\\nranting about a go...</td>\n",
       "      <td>the way i look. i am a six foot half asian, ha...</td>\n",
       "      <td>...</td>\n",
       "      <td>south san francisco, california</td>\n",
       "      <td>doesn&amp;rsquo;t have kids, but might want them</td>\n",
       "      <td>straight</td>\n",
       "      <td>likes dogs and likes cats</td>\n",
       "      <td>agnosticism and very serious about it</td>\n",
       "      <td>m</td>\n",
       "      <td>gemini</td>\n",
       "      <td>sometimes</td>\n",
       "      <td>english</td>\n",
       "      <td>single</td>\n",
       "    </tr>\n",
       "    <tr>\n",
       "      <th>1</th>\n",
       "      <td>35</td>\n",
       "      <td>average</td>\n",
       "      <td>mostly other</td>\n",
       "      <td>often</td>\n",
       "      <td>sometimes</td>\n",
       "      <td>working on space camp</td>\n",
       "      <td>i am a chef: this is what that means.&lt;br /&gt;\\n1...</td>\n",
       "      <td>dedicating everyday to being an unbelievable b...</td>\n",
       "      <td>being silly. having ridiculous amonts of fun w...</td>\n",
       "      <td>NaN</td>\n",
       "      <td>...</td>\n",
       "      <td>oakland, california</td>\n",
       "      <td>doesn&amp;rsquo;t have kids, but might want them</td>\n",
       "      <td>straight</td>\n",
       "      <td>likes dogs and likes cats</td>\n",
       "      <td>agnosticism but not too serious about it</td>\n",
       "      <td>m</td>\n",
       "      <td>cancer</td>\n",
       "      <td>no</td>\n",
       "      <td>english (fluently), spanish (poorly), french (...</td>\n",
       "      <td>single</td>\n",
       "    </tr>\n",
       "    <tr>\n",
       "      <th>2</th>\n",
       "      <td>38</td>\n",
       "      <td>thin</td>\n",
       "      <td>anything</td>\n",
       "      <td>socially</td>\n",
       "      <td>NaN</td>\n",
       "      <td>graduated from masters program</td>\n",
       "      <td>i'm not ashamed of much, but writing public te...</td>\n",
       "      <td>i make nerdy software for musicians, artists, ...</td>\n",
       "      <td>improvising in different contexts. alternating...</td>\n",
       "      <td>my large jaw and large glasses are the physica...</td>\n",
       "      <td>...</td>\n",
       "      <td>san francisco, california</td>\n",
       "      <td>NaN</td>\n",
       "      <td>straight</td>\n",
       "      <td>has cats</td>\n",
       "      <td>NaN</td>\n",
       "      <td>m</td>\n",
       "      <td>pisces but it doesn&amp;rsquo;t matter</td>\n",
       "      <td>no</td>\n",
       "      <td>english, french, c++</td>\n",
       "      <td>available</td>\n",
       "    </tr>\n",
       "    <tr>\n",
       "      <th>3</th>\n",
       "      <td>23</td>\n",
       "      <td>thin</td>\n",
       "      <td>vegetarian</td>\n",
       "      <td>socially</td>\n",
       "      <td>NaN</td>\n",
       "      <td>working on college/university</td>\n",
       "      <td>i work in a library and go to school. . .</td>\n",
       "      <td>reading things written by old dead people</td>\n",
       "      <td>playing synthesizers and organizing books acco...</td>\n",
       "      <td>socially awkward but i do my best</td>\n",
       "      <td>...</td>\n",
       "      <td>berkeley, california</td>\n",
       "      <td>doesn&amp;rsquo;t want kids</td>\n",
       "      <td>straight</td>\n",
       "      <td>likes cats</td>\n",
       "      <td>NaN</td>\n",
       "      <td>m</td>\n",
       "      <td>pisces</td>\n",
       "      <td>no</td>\n",
       "      <td>english, german (poorly)</td>\n",
       "      <td>single</td>\n",
       "    </tr>\n",
       "    <tr>\n",
       "      <th>4</th>\n",
       "      <td>29</td>\n",
       "      <td>athletic</td>\n",
       "      <td>NaN</td>\n",
       "      <td>socially</td>\n",
       "      <td>never</td>\n",
       "      <td>graduated from college/university</td>\n",
       "      <td>hey how's it going? currently vague on the pro...</td>\n",
       "      <td>work work work work + play</td>\n",
       "      <td>creating imagery to look at:&lt;br /&gt;\\nhttp://bag...</td>\n",
       "      <td>i smile a lot and my inquisitive nature</td>\n",
       "      <td>...</td>\n",
       "      <td>san francisco, california</td>\n",
       "      <td>NaN</td>\n",
       "      <td>straight</td>\n",
       "      <td>likes dogs and likes cats</td>\n",
       "      <td>NaN</td>\n",
       "      <td>m</td>\n",
       "      <td>aquarius</td>\n",
       "      <td>no</td>\n",
       "      <td>english</td>\n",
       "      <td>single</td>\n",
       "    </tr>\n",
       "  </tbody>\n",
       "</table>\n",
       "<p>5 rows × 31 columns</p>\n",
       "</div>"
      ],
      "text/plain": [
       "   age       body_type               diet    drinks      drugs  \\\n",
       "0   22  a little extra  strictly anything  socially      never   \n",
       "1   35         average       mostly other     often  sometimes   \n",
       "2   38            thin           anything  socially        NaN   \n",
       "3   23            thin         vegetarian  socially        NaN   \n",
       "4   29        athletic                NaN  socially      never   \n",
       "\n",
       "                           education  \\\n",
       "0      working on college/university   \n",
       "1              working on space camp   \n",
       "2     graduated from masters program   \n",
       "3      working on college/university   \n",
       "4  graduated from college/university   \n",
       "\n",
       "                                              essay0  \\\n",
       "0  about me:<br />\\n<br />\\ni would love to think...   \n",
       "1  i am a chef: this is what that means.<br />\\n1...   \n",
       "2  i'm not ashamed of much, but writing public te...   \n",
       "3          i work in a library and go to school. . .   \n",
       "4  hey how's it going? currently vague on the pro...   \n",
       "\n",
       "                                              essay1  \\\n",
       "0  currently working as an international agent fo...   \n",
       "1  dedicating everyday to being an unbelievable b...   \n",
       "2  i make nerdy software for musicians, artists, ...   \n",
       "3          reading things written by old dead people   \n",
       "4                         work work work work + play   \n",
       "\n",
       "                                              essay2  \\\n",
       "0  making people laugh.<br />\\nranting about a go...   \n",
       "1  being silly. having ridiculous amonts of fun w...   \n",
       "2  improvising in different contexts. alternating...   \n",
       "3  playing synthesizers and organizing books acco...   \n",
       "4  creating imagery to look at:<br />\\nhttp://bag...   \n",
       "\n",
       "                                              essay3  ...  \\\n",
       "0  the way i look. i am a six foot half asian, ha...  ...   \n",
       "1                                                NaN  ...   \n",
       "2  my large jaw and large glasses are the physica...  ...   \n",
       "3                  socially awkward but i do my best  ...   \n",
       "4            i smile a lot and my inquisitive nature  ...   \n",
       "\n",
       "                          location  \\\n",
       "0  south san francisco, california   \n",
       "1              oakland, california   \n",
       "2        san francisco, california   \n",
       "3             berkeley, california   \n",
       "4        san francisco, california   \n",
       "\n",
       "                                      offspring orientation  \\\n",
       "0  doesn&rsquo;t have kids, but might want them    straight   \n",
       "1  doesn&rsquo;t have kids, but might want them    straight   \n",
       "2                                           NaN    straight   \n",
       "3                       doesn&rsquo;t want kids    straight   \n",
       "4                                           NaN    straight   \n",
       "\n",
       "                        pets                                  religion sex  \\\n",
       "0  likes dogs and likes cats     agnosticism and very serious about it   m   \n",
       "1  likes dogs and likes cats  agnosticism but not too serious about it   m   \n",
       "2                   has cats                                       NaN   m   \n",
       "3                 likes cats                                       NaN   m   \n",
       "4  likes dogs and likes cats                                       NaN   m   \n",
       "\n",
       "                                 sign     smokes  \\\n",
       "0                              gemini  sometimes   \n",
       "1                              cancer         no   \n",
       "2  pisces but it doesn&rsquo;t matter         no   \n",
       "3                              pisces         no   \n",
       "4                            aquarius         no   \n",
       "\n",
       "                                              speaks     status  \n",
       "0                                            english     single  \n",
       "1  english (fluently), spanish (poorly), french (...     single  \n",
       "2                               english, french, c++  available  \n",
       "3                           english, german (poorly)     single  \n",
       "4                                            english     single  \n",
       "\n",
       "[5 rows x 31 columns]"
      ]
     },
     "execution_count": 1,
     "metadata": {},
     "output_type": "execute_result"
    }
   ],
   "source": [
    "import pandas as pd\n",
    "import seaborn as sns\n",
    "import numpy as np\n",
    "import matplotlib.pyplot as plt\n",
    "\n",
    "db = pd.read_csv('profiles.csv', encoding='utf-8')\n",
    "\n",
    "db.head()"
   ]
  },
  {
   "cell_type": "code",
   "execution_count": 2,
   "metadata": {
    "scrolled": true
   },
   "outputs": [
    {
     "name": "stdout",
     "output_type": "stream",
     "text": [
      "Index(['age', 'body_type', 'diet', 'drinks', 'drugs', 'education', 'essay0',\n",
      "       'essay1', 'essay2', 'essay3', 'essay4', 'essay5', 'essay6', 'essay7',\n",
      "       'essay8', 'essay9', 'ethnicity', 'height', 'income', 'job',\n",
      "       'last_online', 'location', 'offspring', 'orientation', 'pets',\n",
      "       'religion', 'sex', 'sign', 'smokes', 'speaks', 'status'],\n",
      "      dtype='object')\n",
      "['single' 'available' 'seeing someone' 'married' 'unknown']\n"
     ]
    }
   ],
   "source": [
    "print(db.columns)\n",
    "print(db['status'].unique())\n",
    "\n",
    "# Since status is a thing. Im going to use that as labels\n",
    "# If someone is married at least someone sees something in them. And thus they are likely desierable\n",
    "# seeing someone could just mean 'im kinda hot at least'\n",
    "\n",
    "# looking at this id like to use 'body_type', 'smokes', 'job', 'income', 'height', 'ethnicity'\n",
    "# While ethnicity will likely be removed in the final of the model. While developing it can give information\n",
    "# on possible biases of the dataset; those biases could be accounted for in the final model\n",
    "\n",
    "# But first I'll explore the dataset. More questions and insights are likely to arise, that could shift the final outcome"
   ]
  },
  {
   "cell_type": "code",
   "execution_count": 3,
   "metadata": {},
   "outputs": [
    {
     "data": {
      "text/plain": [
       "array(['a little extra', 'average', 'thin', 'athletic', 'fit', nan,\n",
       "       'skinny', 'curvy', 'full figured', 'jacked', 'rather not say',\n",
       "       'used up', 'overweight'], dtype=object)"
      ]
     },
     "execution_count": 3,
     "metadata": {},
     "output_type": "execute_result"
    }
   ],
   "source": [
    "body_types = db['body_type']\n",
    "body_types.unique()"
   ]
  },
  {
   "cell_type": "code",
   "execution_count": 4,
   "metadata": {},
   "outputs": [
    {
     "data": {
      "image/png": "[encoded data removed]",
      "text/plain": [
       "<Figure size 1080x432 with 1 Axes>"
      ]
     },
     "metadata": {
      "needs_background": "light"
     },
     "output_type": "display_data"
    }
   ],
   "source": [
    "f, ax = plt.subplots(figsize=(15,6))\n",
    "ax = sns.histplot(body_types)\n",
    "\n",
    "# Few things about body type. When asked about it people are terrible at judging their own body type, especialy men.\n",
    "# From an old article I read, a lot of men(in particular young men) about 70-ish% see themselves as physicaly fit,\n",
    "# and of that group of men, only about 15-17% are actualy physicaly fit. Uncertan about wommen, and while the source is\n",
    "# just some article I read x years ago, I still belieave it holds some credibility due the way testosterone affects us.\n",
    "\n",
    "# but in general I see this more as an indicect question about their confidence, \n",
    "# rather than a testament to their actual body type.\n",
    "\n",
    "# And confidence (at least from what I know) can have a huge impact on attractiveness.\n",
    "# However, if the difference between matches is to large it could be intimidating."
   ]
  },
  {
   "cell_type": "code",
   "execution_count": 5,
   "metadata": {},
   "outputs": [
    {
     "data": {
      "text/plain": [
       "array(['strictly anything', 'mostly other', 'anything', 'vegetarian', nan,\n",
       "       'mostly anything', 'mostly vegetarian', 'strictly vegan',\n",
       "       'strictly vegetarian', 'mostly vegan', 'strictly other',\n",
       "       'mostly halal', 'other', 'vegan', 'mostly kosher',\n",
       "       'strictly halal', 'halal', 'strictly kosher', 'kosher'],\n",
       "      dtype=object)"
      ]
     },
     "execution_count": 5,
     "metadata": {},
     "output_type": "execute_result"
    }
   ],
   "source": [
    "diet = db['diet']\n",
    "diet.unique()"
   ]
  },
  {
   "cell_type": "code",
   "execution_count": 6,
   "metadata": {},
   "outputs": [
    {
     "data": {
      "text/plain": [
       "<Figure size 432x288 with 0 Axes>"
      ]
     },
     "metadata": {},
     "output_type": "display_data"
    },
    {
     "data": {
      "image/png": "[encoded data removed]",
      "text/plain": [
       "<Figure size 2160x864 with 1 Axes>"
      ]
     },
     "metadata": {
      "needs_background": "light"
     },
     "output_type": "display_data"
    }
   ],
   "source": [
    "plt.clf()\n",
    "f, ax = plt.subplots(figsize=(30,12))\n",
    "ax = sns.histplot(diet)\n",
    "\n",
    "# 'mostly other', 'anything' and 'mostly anything' problary go with any match\n",
    "# but for 'strictly vegan', 'strictly vegetarian' and 'vegan' it might be a dealbreaker to be paired with\n",
    "# someone who has a compleatly different diet. I personaly don't know a lot about diets themselves, so I will keep to what \n",
    "# I do know.\n",
    "\n",
    "# When someone is strict with a type-diet, its seldom realy for health/medical reasons. The people is question might convince\n",
    "# themselves it is, but it's very often more about: an ideology, a belief, joining a group of people, justifying behaviour.\n",
    "# This is the main reason why different strict type-diets can be a dealbreaker.\n",
    "\n",
    "# When someone is 'mostly' x diet, its less likely to be a dealbreaker if the match has another diet.\n",
    "\n",
    "# However, I see these prefixes are not a great representation of how strict they realy are.\n",
    "# for instance I could say that 'vegan' is a stricter form of 'vegitarian'.\n",
    "# So 'mostly vegan' might be stricter than 'strictly vegitarian'.\n",
    "# That it turn means that 'strict vegan' might not be the same as 'strictly kosher'."
   ]
  },
  {
   "cell_type": "code",
   "execution_count": 7,
   "metadata": {},
   "outputs": [
    {
     "data": {
      "text/plain": [
       "array(['socially', 'often', 'not at all', 'rarely', nan, 'very often',\n",
       "       'desperately'], dtype=object)"
      ]
     },
     "execution_count": 7,
     "metadata": {},
     "output_type": "execute_result"
    }
   ],
   "source": [
    "drinks = db['drinks']\n",
    "drinks.unique()"
   ]
  },
  {
   "cell_type": "code",
   "execution_count": 8,
   "metadata": {},
   "outputs": [
    {
     "data": {
      "text/plain": [
       "<Figure size 432x288 with 0 Axes>"
      ]
     },
     "metadata": {},
     "output_type": "display_data"
    },
    {
     "data": {
      "image/png": "[encoded data removed]",
      "text/plain": [
       "<Figure size 864x432 with 1 Axes>"
      ]
     },
     "metadata": {
      "needs_background": "light"
     },
     "output_type": "display_data"
    }
   ],
   "source": [
    "plt.clf()\n",
    "f, ax = plt.subplots(figsize=(12,6))\n",
    "ax = sns.histplot(drinks)\n",
    "\n",
    "# Category of people who dont drink can contain people with drinking issues. Whenever it is: dealing with alhoholism\n",
    "# in close relationships, previusly alcoholic, being a violent alcoholic, religion or just someone wanting to settle down and\n",
    "# have babies in a safe environment. while people who simply does not like alcohol still belongs in this group. \n",
    "# The risk of pairing someone who drinks 'very often' and with this group could be problematic.\n",
    "\n",
    "# Since less likely that 'social' and 'often' have issues with alcohol, then it is less likely to be a dealbreaker\n",
    "# to them if sombody drinks 'rarely' or 'very often'. \n",
    "\n",
    "# In other words, 'not at all' should not be paired with 'very often'. In some cases this might be fine,\n",
    "# but when its a problem it could be a huge issue. \n"
   ]
  },
  {
   "cell_type": "code",
   "execution_count": 9,
   "metadata": {},
   "outputs": [
    {
     "data": {
      "text/plain": [
       "<Figure size 432x288 with 0 Axes>"
      ]
     },
     "metadata": {},
     "output_type": "display_data"
    },
    {
     "data": {
      "image/png": "[encoded data removed]",
      "text/plain": [
       "<Figure size 432x432 with 1 Axes>"
      ]
     },
     "metadata": {
      "needs_background": "light"
     },
     "output_type": "display_data"
    }
   ],
   "source": [
    "sex = db['sex']\n",
    "\n",
    "plt.clf()\n",
    "f, ax = plt.subplots(figsize=(6,6))\n",
    "ax = sns.histplot(sex)\n",
    "\n",
    "# More male than female on a dating app is standard. This is likely to increase even further as the dating app increases in\n",
    "# popularity. "
   ]
  },
  {
   "cell_type": "code",
   "execution_count": 10,
   "metadata": {},
   "outputs": [
    {
     "data": {
      "text/html": [
       "<div>\n",
       "<style scoped>\n",
       "    .dataframe tbody tr th:only-of-type {\n",
       "        vertical-align: middle;\n",
       "    }\n",
       "\n",
       "    .dataframe tbody tr th {\n",
       "        vertical-align: top;\n",
       "    }\n",
       "\n",
       "    .dataframe thead th {\n",
       "        text-align: right;\n",
       "    }\n",
       "</style>\n",
       "<table border=\"1\" class=\"dataframe\">\n",
       "  <thead>\n",
       "    <tr style=\"text-align: right;\">\n",
       "      <th></th>\n",
       "      <th>age</th>\n",
       "      <th>body_type</th>\n",
       "      <th>diet</th>\n",
       "      <th>drinks</th>\n",
       "      <th>drugs</th>\n",
       "      <th>education</th>\n",
       "      <th>essay0</th>\n",
       "      <th>essay1</th>\n",
       "      <th>essay2</th>\n",
       "      <th>essay3</th>\n",
       "      <th>...</th>\n",
       "      <th>location</th>\n",
       "      <th>offspring</th>\n",
       "      <th>orientation</th>\n",
       "      <th>pets</th>\n",
       "      <th>religion</th>\n",
       "      <th>sex</th>\n",
       "      <th>sign</th>\n",
       "      <th>smokes</th>\n",
       "      <th>speaks</th>\n",
       "      <th>status</th>\n",
       "    </tr>\n",
       "  </thead>\n",
       "  <tbody>\n",
       "    <tr>\n",
       "      <th>0</th>\n",
       "      <td>22</td>\n",
       "      <td>a little extra</td>\n",
       "      <td>strictly anything</td>\n",
       "      <td>socially</td>\n",
       "      <td>never</td>\n",
       "      <td>working on college/university</td>\n",
       "      <td>about me:&lt;br /&gt;\\n&lt;br /&gt;\\ni would love to think...</td>\n",
       "      <td>currently working as an international agent fo...</td>\n",
       "      <td>making people laugh.&lt;br /&gt;\\nranting about a go...</td>\n",
       "      <td>the way i look. i am a six foot half asian, ha...</td>\n",
       "      <td>...</td>\n",
       "      <td>south san francisco, california</td>\n",
       "      <td>doesn&amp;rsquo;t have kids, but might want them</td>\n",
       "      <td>straight</td>\n",
       "      <td>likes dogs and likes cats</td>\n",
       "      <td>agnosticism and very serious about it</td>\n",
       "      <td>m</td>\n",
       "      <td>gemini</td>\n",
       "      <td>sometimes</td>\n",
       "      <td>english</td>\n",
       "      <td>single</td>\n",
       "    </tr>\n",
       "    <tr>\n",
       "      <th>1</th>\n",
       "      <td>35</td>\n",
       "      <td>average</td>\n",
       "      <td>mostly other</td>\n",
       "      <td>often</td>\n",
       "      <td>sometimes</td>\n",
       "      <td>working on space camp</td>\n",
       "      <td>i am a chef: this is what that means.&lt;br /&gt;\\n1...</td>\n",
       "      <td>dedicating everyday to being an unbelievable b...</td>\n",
       "      <td>being silly. having ridiculous amonts of fun w...</td>\n",
       "      <td>NaN</td>\n",
       "      <td>...</td>\n",
       "      <td>oakland, california</td>\n",
       "      <td>doesn&amp;rsquo;t have kids, but might want them</td>\n",
       "      <td>straight</td>\n",
       "      <td>likes dogs and likes cats</td>\n",
       "      <td>agnosticism but not too serious about it</td>\n",
       "      <td>m</td>\n",
       "      <td>cancer</td>\n",
       "      <td>no</td>\n",
       "      <td>english (fluently), spanish (poorly), french (...</td>\n",
       "      <td>single</td>\n",
       "    </tr>\n",
       "    <tr>\n",
       "      <th>2</th>\n",
       "      <td>38</td>\n",
       "      <td>thin</td>\n",
       "      <td>anything</td>\n",
       "      <td>socially</td>\n",
       "      <td>NaN</td>\n",
       "      <td>graduated from masters program</td>\n",
       "      <td>i'm not ashamed of much, but writing public te...</td>\n",
       "      <td>i make nerdy software for musicians, artists, ...</td>\n",
       "      <td>improvising in different contexts. alternating...</td>\n",
       "      <td>my large jaw and large glasses are the physica...</td>\n",
       "      <td>...</td>\n",
       "      <td>san francisco, california</td>\n",
       "      <td>NaN</td>\n",
       "      <td>straight</td>\n",
       "      <td>has cats</td>\n",
       "      <td>NaN</td>\n",
       "      <td>m</td>\n",
       "      <td>pisces but it doesn&amp;rsquo;t matter</td>\n",
       "      <td>no</td>\n",
       "      <td>english, french, c++</td>\n",
       "      <td>available</td>\n",
       "    </tr>\n",
       "    <tr>\n",
       "      <th>3</th>\n",
       "      <td>23</td>\n",
       "      <td>thin</td>\n",
       "      <td>vegetarian</td>\n",
       "      <td>socially</td>\n",
       "      <td>NaN</td>\n",
       "      <td>working on college/university</td>\n",
       "      <td>i work in a library and go to school. . .</td>\n",
       "      <td>reading things written by old dead people</td>\n",
       "      <td>playing synthesizers and organizing books acco...</td>\n",
       "      <td>socially awkward but i do my best</td>\n",
       "      <td>...</td>\n",
       "      <td>berkeley, california</td>\n",
       "      <td>doesn&amp;rsquo;t want kids</td>\n",
       "      <td>straight</td>\n",
       "      <td>likes cats</td>\n",
       "      <td>NaN</td>\n",
       "      <td>m</td>\n",
       "      <td>pisces</td>\n",
       "      <td>no</td>\n",
       "      <td>english, german (poorly)</td>\n",
       "      <td>single</td>\n",
       "    </tr>\n",
       "    <tr>\n",
       "      <th>4</th>\n",
       "      <td>29</td>\n",
       "      <td>athletic</td>\n",
       "      <td>NaN</td>\n",
       "      <td>socially</td>\n",
       "      <td>never</td>\n",
       "      <td>graduated from college/university</td>\n",
       "      <td>hey how's it going? currently vague on the pro...</td>\n",
       "      <td>work work work work + play</td>\n",
       "      <td>creating imagery to look at:&lt;br /&gt;\\nhttp://bag...</td>\n",
       "      <td>i smile a lot and my inquisitive nature</td>\n",
       "      <td>...</td>\n",
       "      <td>san francisco, california</td>\n",
       "      <td>NaN</td>\n",
       "      <td>straight</td>\n",
       "      <td>likes dogs and likes cats</td>\n",
       "      <td>NaN</td>\n",
       "      <td>m</td>\n",
       "      <td>aquarius</td>\n",
       "      <td>no</td>\n",
       "      <td>english</td>\n",
       "      <td>single</td>\n",
       "    </tr>\n",
       "  </tbody>\n",
       "</table>\n",
       "<p>5 rows × 31 columns</p>\n",
       "</div>"
      ],
      "text/plain": [
       "   age       body_type               diet    drinks      drugs  \\\n",
       "0   22  a little extra  strictly anything  socially      never   \n",
       "1   35         average       mostly other     often  sometimes   \n",
       "2   38            thin           anything  socially        NaN   \n",
       "3   23            thin         vegetarian  socially        NaN   \n",
       "4   29        athletic                NaN  socially      never   \n",
       "\n",
       "                           education  \\\n",
       "0      working on college/university   \n",
       "1              working on space camp   \n",
       "2     graduated from masters program   \n",
       "3      working on college/university   \n",
       "4  graduated from college/university   \n",
       "\n",
       "                                              essay0  \\\n",
       "0  about me:<br />\\n<br />\\ni would love to think...   \n",
       "1  i am a chef: this is what that means.<br />\\n1...   \n",
       "2  i'm not ashamed of much, but writing public te...   \n",
       "3          i work in a library and go to school. . .   \n",
       "4  hey how's it going? currently vague on the pro...   \n",
       "\n",
       "                                              essay1  \\\n",
       "0  currently working as an international agent fo...   \n",
       "1  dedicating everyday to being an unbelievable b...   \n",
       "2  i make nerdy software for musicians, artists, ...   \n",
       "3          reading things written by old dead people   \n",
       "4                         work work work work + play   \n",
       "\n",
       "                                              essay2  \\\n",
       "0  making people laugh.<br />\\nranting about a go...   \n",
       "1  being silly. having ridiculous amonts of fun w...   \n",
       "2  improvising in different contexts. alternating...   \n",
       "3  playing synthesizers and organizing books acco...   \n",
       "4  creating imagery to look at:<br />\\nhttp://bag...   \n",
       "\n",
       "                                              essay3  ...  \\\n",
       "0  the way i look. i am a six foot half asian, ha...  ...   \n",
       "1                                                NaN  ...   \n",
       "2  my large jaw and large glasses are the physica...  ...   \n",
       "3                  socially awkward but i do my best  ...   \n",
       "4            i smile a lot and my inquisitive nature  ...   \n",
       "\n",
       "                          location  \\\n",
       "0  south san francisco, california   \n",
       "1              oakland, california   \n",
       "2        san francisco, california   \n",
       "3             berkeley, california   \n",
       "4        san francisco, california   \n",
       "\n",
       "                                      offspring orientation  \\\n",
       "0  doesn&rsquo;t have kids, but might want them    straight   \n",
       "1  doesn&rsquo;t have kids, but might want them    straight   \n",
       "2                                           NaN    straight   \n",
       "3                       doesn&rsquo;t want kids    straight   \n",
       "4                                           NaN    straight   \n",
       "\n",
       "                        pets                                  religion sex  \\\n",
       "0  likes dogs and likes cats     agnosticism and very serious about it   m   \n",
       "1  likes dogs and likes cats  agnosticism but not too serious about it   m   \n",
       "2                   has cats                                       NaN   m   \n",
       "3                 likes cats                                       NaN   m   \n",
       "4  likes dogs and likes cats                                       NaN   m   \n",
       "\n",
       "                                 sign     smokes  \\\n",
       "0                              gemini  sometimes   \n",
       "1                              cancer         no   \n",
       "2  pisces but it doesn&rsquo;t matter         no   \n",
       "3                              pisces         no   \n",
       "4                            aquarius         no   \n",
       "\n",
       "                                              speaks     status  \n",
       "0                                            english     single  \n",
       "1  english (fluently), spanish (poorly), french (...     single  \n",
       "2                               english, french, c++  available  \n",
       "3                           english, german (poorly)     single  \n",
       "4                                            english     single  \n",
       "\n",
       "[5 rows x 31 columns]"
      ]
     },
     "execution_count": 10,
     "metadata": {},
     "output_type": "execute_result"
    }
   ],
   "source": [
    "male = db[db['sex'] == 'm']\n",
    "female = db[db['sex'] == 'f']\n",
    "\n",
    "male.head()"
   ]
  },
  {
   "cell_type": "code",
   "execution_count": 11,
   "metadata": {},
   "outputs": [
    {
     "name": "stdout",
     "output_type": "stream",
     "text": [
      "Average male age:  32.01858829439839\n",
      "Average female age:  32.81821951320645\n"
     ]
    }
   ],
   "source": [
    "print('Average male age: ' ,male.age.mean())\n",
    "print('Average female age: ' ,female.age.mean())"
   ]
  },
  {
   "cell_type": "code",
   "execution_count": 12,
   "metadata": {},
   "outputs": [
    {
     "data": {
      "text/plain": [
       "<AxesSubplot:xlabel='age', ylabel='Count'>"
      ]
     },
     "execution_count": 12,
     "metadata": {},
     "output_type": "execute_result"
    },
    {
     "data": {
      "image/png": "[encoded data removed]",
      "text/plain": [
       "<Figure size 432x288 with 1 Axes>"
      ]
     },
     "metadata": {
      "needs_background": "light"
     },
     "output_type": "display_data"
    }
   ],
   "source": [
    "sns.histplot(male.age)"
   ]
  },
  {
   "cell_type": "code",
   "execution_count": 13,
   "metadata": {},
   "outputs": [
    {
     "data": {
      "text/plain": [
       "<AxesSubplot:xlabel='age', ylabel='Count'>"
      ]
     },
     "execution_count": 13,
     "metadata": {},
     "output_type": "execute_result"
    },
    {
     "data": {
      "image/png": "[encoded data removed]",
      "text/plain": [
       "<Figure size 432x288 with 1 Axes>"
      ]
     },
     "metadata": {
      "needs_background": "light"
     },
     "output_type": "display_data"
    }
   ],
   "source": [
    "sns.histplot(female.age)"
   ]
  },
  {
   "cell_type": "code",
   "execution_count": 14,
   "metadata": {},
   "outputs": [
    {
     "data": {
      "text/plain": [
       "<AxesSubplot:xlabel='education', ylabel='age'>"
      ]
     },
     "execution_count": 14,
     "metadata": {},
     "output_type": "execute_result"
    },
    {
     "data": {
      "image/png": "[encoded data removed]",
      "text/plain": [
       "<Figure size 432x288 with 1 Axes>"
      ]
     },
     "metadata": {
      "needs_background": "light"
     },
     "output_type": "display_data"
    }
   ],
   "source": [
    "sns.boxplot(x=male.education, y=male.age)"
   ]
  },
  {
   "cell_type": "code",
   "execution_count": 15,
   "metadata": {},
   "outputs": [
    {
     "data": {
      "text/plain": [
       "array(['working on college/university', 'working on space camp',\n",
       "       'graduated from masters program',\n",
       "       'graduated from college/university', 'working on two-year college',\n",
       "       nan, 'working on masters program', 'graduated from space camp',\n",
       "       'college/university', 'graduated from ph.d program',\n",
       "       'working on ph.d program', 'two-year college',\n",
       "       'dropped out of space camp', 'working on med school',\n",
       "       'dropped out of college/university',\n",
       "       'graduated from two-year college', 'dropped out of high school',\n",
       "       'graduated from law school', 'working on high school',\n",
       "       'graduated from high school', 'dropped out of two-year college',\n",
       "       'dropped out of med school', 'high school',\n",
       "       'graduated from med school', 'dropped out of ph.d program',\n",
       "       'law school', 'masters program', 'working on law school',\n",
       "       'space camp', 'dropped out of masters program', 'ph.d program',\n",
       "       'dropped out of law school', 'med school'], dtype=object)"
      ]
     },
     "execution_count": 15,
     "metadata": {},
     "output_type": "execute_result"
    }
   ],
   "source": [
    "# woah, expected education to have far fewer groups\n",
    "\n",
    "male.education.unique()\n",
    "\n",
    "# I would like to group these into low, med, high eduaction (simply to get a better overview).\n",
    "# But so manny of these don't even make sence to me, like 'dropped out of space camp'. . . WHAT??\n",
    "\n",
    "# Is space camp real? Is there a secret space camp while the rest of us imbeciles are stuck on some lame summer camp?\n",
    "# Why is space camp so popular? Is it nasa? Is it satire? Are people bonking at space camp like a summer camp?\n",
    "# If you drop out of space camp, how have you not died? are people droping out of space camp immortal?\n",
    "# What are the pre-requirements for attending space camp? Guessing a first is realising those who drop out of it\n",
    "# arent immortal?"
   ]
  },
  {
   "cell_type": "code",
   "execution_count": 16,
   "metadata": {},
   "outputs": [
    {
     "data": {
      "text/plain": [
       "False    30392\n",
       "True      1196\n",
       "Name: education, dtype: int64"
      ]
     },
     "execution_count": 16,
     "metadata": {},
     "output_type": "execute_result"
    }
   ],
   "source": [
    "space_camp_male = male['education'].str.contains('space camp')\n",
    "space_camp_male.value_counts()\n",
    "\n",
    "# 1196 men of this group has attended space camp in some form. With a number that high this might be legit\n",
    "# lets see about the females"
   ]
  },
  {
   "cell_type": "code",
   "execution_count": 17,
   "metadata": {},
   "outputs": [
    {
     "data": {
      "text/plain": [
       "False    21243\n",
       "True       487\n",
       "Name: education, dtype: int64"
      ]
     },
     "execution_count": 17,
     "metadata": {},
     "output_type": "execute_result"
    }
   ],
   "source": [
    "space_camp_female = female['education'].str.contains('space camp')\n",
    "space_camp_female.value_counts()\n",
    "\n",
    "# 487 females has attended space camp. These numbers actualy seem reasonable\n",
    "# if space camp actualy exist it should be placed in the high category\n",
    "# But how can I know whenever or not this is a running meme?\n",
    "# If people base their profile on a meme they will most likely write a bunch of satirical content on their profiles\n",
    "# however if the rest of their profile is serius, space camp might be real."
   ]
  },
  {
   "cell_type": "code",
   "execution_count": 18,
   "metadata": {},
   "outputs": [
    {
     "data": {
      "text/plain": [
       "<AxesSubplot:xlabel='income', ylabel='education'>"
      ]
     },
     "execution_count": 18,
     "metadata": {},
     "output_type": "execute_result"
    },
    {
     "data": {
      "image/png": "[encoded data removed]",
      "text/plain": [
       "<Figure size 1152x720 with 1 Axes>"
      ]
     },
     "metadata": {
      "needs_background": "light"
     },
     "output_type": "display_data"
    }
   ],
   "source": [
    "plt.figure(figsize=(16, 10))\n",
    "\n",
    "sns.barplot(data=db, y=\"education\", x=\"income\")\n",
    "\n",
    "# looking at this, it seems like droping out of space camp or law school is the way to go, altho dropping out of\n",
    "# law school seems hit or miss.\n",
    "\n",
    "# However. . . Seeing 'droped out of high school' making more income than 'graduated from med school'.\n",
    "# People are undoubtably questionable souces. From this I guess the takeaway is that people on dating apps are realy\n",
    "# insecure about their income. As these results are very far from expected \n",
    "# values (with what appears to be quite a few outliners) I will have to say, people lie about their income to seem attractive\n",
    "\n",
    "# That in turn means this might not be part of the final model. Altho im kinda curious. . . does it work?\n",
    "# If it works, and the model sees an importance in this, I will keep it in."
   ]
  },
  {
   "cell_type": "code",
   "execution_count": 19,
   "metadata": {},
   "outputs": [
    {
     "name": "stdout",
     "output_type": "stream",
     "text": [
      "no                43896\n",
      "sometimes          3787\n",
      "when drinking      3040\n",
      "yes                2231\n",
      "trying to quit     1480\n",
      "Name: smokes, dtype: int64\n",
      "other                                7589\n",
      "student                              4882\n",
      "science / tech / engineering         4848\n",
      "computer / hardware / software       4709\n",
      "artistic / musical / writer          4439\n",
      "sales / marketing / biz dev          4391\n",
      "medicine / health                    3680\n",
      "education / academia                 3513\n",
      "executive / management               2373\n",
      "banking / financial / real estate    2266\n",
      "entertainment / media                2250\n",
      "law / legal services                 1381\n",
      "hospitality / travel                 1364\n",
      "construction / craftsmanship         1021\n",
      "clerical / administrative             805\n",
      "political / government                708\n",
      "rather not say                        436\n",
      "transportation                        366\n",
      "unemployed                            273\n",
      "retired                               250\n",
      "military                              204\n",
      "Name: job, dtype: int64\n",
      "20033.222533613585\n",
      "average           14652\n",
      "fit               12711\n",
      "athletic          11819\n",
      "thin               4711\n",
      "curvy              3924\n",
      "a little extra     2629\n",
      "skinny             1777\n",
      "full figured       1009\n",
      "overweight          444\n",
      "jacked              421\n",
      "used up             355\n",
      "rather not say      198\n",
      "Name: body_type, dtype: int64\n",
      "0    75.0\n",
      "1    70.0\n",
      "2    68.0\n",
      "3    71.0\n",
      "4    66.0\n",
      "Name: height, dtype: float64\n",
      "white                                                                 32831\n",
      "asian                                                                  6134\n",
      "hispanic / latin                                                       2823\n",
      "black                                                                  2008\n",
      "other                                                                  1706\n",
      "                                                                      ...  \n",
      "middle eastern, indian, white                                             1\n",
      "asian, middle eastern, black, white, other                                1\n",
      "asian, middle eastern, indian, hispanic / latin, white, other             1\n",
      "black, native american, indian, pacific islander, hispanic / latin        1\n",
      "asian, black, indian                                                      1\n",
      "Name: ethnicity, Length: 217, dtype: int64\n"
     ]
    }
   ],
   "source": [
    "print(db.smokes.value_counts())\n",
    "print(db.job.value_counts())\n",
    "print(db.income.mean())\n",
    "print(db.body_type.value_counts())\n",
    "print(db.height.head())\n",
    "print(db.ethnicity.value_counts())"
   ]
  },
  {
   "cell_type": "code",
   "execution_count": 20,
   "metadata": {},
   "outputs": [],
   "source": [
    "# some fixes\n",
    "\n",
    "db['sex_int'] = db['sex'].apply(lambda x: 0 if x == 'male' else 1)\n",
    "db['is_married'] = db['status'].apply(lambda x: 'yes' if x == 'married' else 'no')\n",
    "db['job_short'] = db.job.str.split().str.get(0)\n",
    "db['ethnicity_short'] = db.ethnicity.str.split().str.get(0)"
   ]
  },
  {
   "cell_type": "code",
   "execution_count": 21,
   "metadata": {},
   "outputs": [
    {
     "name": "stdout",
     "output_type": "stream",
     "text": [
      "no                43896\n",
      "sometimes          3787\n",
      "when drinking      3040\n",
      "yes                2231\n",
      "trying to quit     1480\n",
      "Name: smokes, dtype: int64\n",
      "other             7589\n",
      "student           4882\n",
      "science           4848\n",
      "computer          4709\n",
      "artistic          4439\n",
      "sales             4391\n",
      "medicine          3680\n",
      "education         3513\n",
      "executive         2373\n",
      "banking           2266\n",
      "entertainment     2250\n",
      "law               1381\n",
      "hospitality       1364\n",
      "construction      1021\n",
      "clerical           805\n",
      "political          708\n",
      "rather             436\n",
      "transportation     366\n",
      "unemployed         273\n",
      "retired            250\n",
      "military           204\n",
      "Name: job_short, dtype: int64\n",
      "20033.222533613585\n",
      "average           14652\n",
      "fit               12711\n",
      "athletic          11819\n",
      "thin               4711\n",
      "curvy              3924\n",
      "a little extra     2629\n",
      "skinny             1777\n",
      "full figured       1009\n",
      "overweight          444\n",
      "jacked              421\n",
      "used up             355\n",
      "rather not say      198\n",
      "Name: body_type, dtype: int64\n",
      "0    75.0\n",
      "1    70.0\n",
      "2    68.0\n",
      "3    71.0\n",
      "4    66.0\n",
      "Name: height, dtype: float64\n",
      "white       32831\n",
      "asian        6134\n",
      "hispanic     4379\n",
      "asian,       2071\n",
      "black        2008\n",
      "other        1706\n",
      "indian       1077\n",
      "black,       1063\n",
      "middle        811\n",
      "pacific       717\n",
      "native        709\n",
      "white,        641\n",
      "indian,       119\n",
      "Name: ethnicity_short, dtype: int64\n",
      "no     59636\n",
      "yes      310\n",
      "Name: is_married, dtype: int64\n"
     ]
    }
   ],
   "source": [
    "print(db.smokes.value_counts())\n",
    "print(db.job_short.value_counts())\n",
    "print(db.income.mean())\n",
    "print(db.body_type.value_counts())\n",
    "print(db.height.head())\n",
    "print(db.ethnicity_short.value_counts())\n",
    "print(db.is_married.value_counts())"
   ]
  },
  {
   "cell_type": "code",
   "execution_count": 22,
   "metadata": {},
   "outputs": [
    {
     "name": "stdout",
     "output_type": "stream",
     "text": [
      "no     57572\n",
      "yes     2374\n",
      "Name: married_or_seeing, dtype: int64\n",
      "white       33472\n",
      "asian        8205\n",
      "hispanic     4379\n",
      "black        3071\n",
      "other        1706\n",
      "indian       1196\n",
      "middle        811\n",
      "pacific       717\n",
      "native        709\n",
      "Name: ethnicity_short, dtype: int64\n"
     ]
    }
   ],
   "source": [
    "# the amount of people married on this app might be a bit low. creating another column to get a few more labels\n",
    "db['married_or_seeing'] = db['status'].apply(lambda x: 'yes' if x == 'seeing someone' or x == 'married' else 'no')\n",
    "\n",
    "# Also noticed the ',' on the back of some ethnicities\n",
    "db['ethnicity_short'] = db.ethnicity_short.str.replace(',', '')\n",
    "\n",
    "print(db.married_or_seeing.value_counts())\n",
    "print(db.ethnicity_short.value_counts())"
   ]
  },
  {
   "cell_type": "code",
   "execution_count": 23,
   "metadata": {},
   "outputs": [
    {
     "name": "stdout",
     "output_type": "stream",
     "text": [
      "is_married              0\n",
      "married_or_seeing       0\n",
      "ethnicity_short      5680\n",
      "income                  0\n",
      "body_type            5296\n",
      "job_short            8198\n",
      "sex_int                 0\n",
      "smokes               5512\n",
      "height                  3\n",
      "dtype: int64\n"
     ]
    }
   ],
   "source": [
    "print(db[['is_married', 'married_or_seeing', 'ethnicity_short', 'income', 'body_type', 'job_short', 'sex_int', 'smokes',\n",
    "        'height']].isnull().sum())"
   ]
  },
  {
   "cell_type": "code",
   "execution_count": 24,
   "metadata": {},
   "outputs": [],
   "source": [
    "db = db[['is_married', 'married_or_seeing', 'income', 'body_type', 'job_short', 'sex_int', 'smokes',\n",
    "        'height']].dropna()"
   ]
  },
  {
   "cell_type": "code",
   "execution_count": 25,
   "metadata": {},
   "outputs": [],
   "source": [
    "to_prep = ['body_type', 'job_short', 'smokes']\n",
    "\n",
    "for i in to_prep:\n",
    "    db = pd.get_dummies(db, columns=[i], prefix = [i])"
   ]
  },
  {
   "cell_type": "code",
   "execution_count": 26,
   "metadata": {},
   "outputs": [
    {
     "name": "stdout",
     "output_type": "stream",
     "text": [
      "Index(['is_married', 'married_or_seeing', 'income', 'sex_int', 'height',\n",
      "       'body_type_a little extra', 'body_type_athletic', 'body_type_average',\n",
      "       'body_type_curvy', 'body_type_fit', 'body_type_full figured',\n",
      "       'body_type_jacked', 'body_type_overweight', 'body_type_rather not say',\n",
      "       'body_type_skinny', 'body_type_thin', 'body_type_used up',\n",
      "       'job_short_artistic', 'job_short_banking', 'job_short_clerical',\n",
      "       'job_short_computer', 'job_short_construction', 'job_short_education',\n",
      "       'job_short_entertainment', 'job_short_executive',\n",
      "       'job_short_hospitality', 'job_short_law', 'job_short_medicine',\n",
      "       'job_short_military', 'job_short_other', 'job_short_political',\n",
      "       'job_short_rather', 'job_short_retired', 'job_short_sales',\n",
      "       'job_short_science', 'job_short_student', 'job_short_transportation',\n",
      "       'job_short_unemployed', 'smokes_no', 'smokes_sometimes',\n",
      "       'smokes_trying to quit', 'smokes_when drinking', 'smokes_yes'],\n",
      "      dtype='object')\n",
      "  is_married married_or_seeing  income  sex_int  height  \\\n",
      "0         no                no      -1        1    75.0   \n",
      "1         no                no   80000        1    70.0   \n",
      "3         no                no   20000        1    71.0   \n",
      "4         no                no      -1        1    66.0   \n",
      "5         no                no      -1        1    67.0   \n",
      "\n",
      "   body_type_a little extra  body_type_athletic  body_type_average  \\\n",
      "0                         1                   0                  0   \n",
      "1                         0                   0                  1   \n",
      "3                         0                   0                  0   \n",
      "4                         0                   1                  0   \n",
      "5                         0                   0                  1   \n",
      "\n",
      "   body_type_curvy  body_type_fit  ...  job_short_sales  job_short_science  \\\n",
      "0                0              0  ...                0                  0   \n",
      "1                0              0  ...                0                  0   \n",
      "3                0              0  ...                0                  0   \n",
      "4                0              0  ...                0                  0   \n",
      "5                0              0  ...                0                  0   \n",
      "\n",
      "   job_short_student  job_short_transportation  job_short_unemployed  \\\n",
      "0                  0                         1                     0   \n",
      "1                  0                         0                     0   \n",
      "3                  1                         0                     0   \n",
      "4                  0                         0                     0   \n",
      "5                  0                         0                     0   \n",
      "\n",
      "   smokes_no  smokes_sometimes  smokes_trying to quit  smokes_when drinking  \\\n",
      "0          0                 1                      0                     0   \n",
      "1          1                 0                      0                     0   \n",
      "3          1                 0                      0                     0   \n",
      "4          1                 0                      0                     0   \n",
      "5          1                 0                      0                     0   \n",
      "\n",
      "   smokes_yes  \n",
      "0           0  \n",
      "1           0  \n",
      "3           0  \n",
      "4           0  \n",
      "5           0  \n",
      "\n",
      "[5 rows x 43 columns]\n"
     ]
    }
   ],
   "source": [
    "print(db.columns)\n",
    "print(db.head())"
   ]
  },
  {
   "cell_type": "code",
   "execution_count": 27,
   "metadata": {},
   "outputs": [
    {
     "name": "stderr",
     "output_type": "stream",
     "text": [
      "C:\\Users\\robin\\AppData\\Local\\Temp/ipykernel_11444/2408375246.py:4: FutureWarning: In a future version of pandas all arguments of DataFrame.drop except for the argument 'labels' will be keyword-only\n",
      "  db = db.drop('is_married', 1)\n"
     ]
    },
    {
     "data": {
      "text/html": [
       "<div>\n",
       "<style scoped>\n",
       "    .dataframe tbody tr th:only-of-type {\n",
       "        vertical-align: middle;\n",
       "    }\n",
       "\n",
       "    .dataframe tbody tr th {\n",
       "        vertical-align: top;\n",
       "    }\n",
       "\n",
       "    .dataframe thead th {\n",
       "        text-align: right;\n",
       "    }\n",
       "</style>\n",
       "<table border=\"1\" class=\"dataframe\">\n",
       "  <thead>\n",
       "    <tr style=\"text-align: right;\">\n",
       "      <th></th>\n",
       "      <th>married_or_seeing</th>\n",
       "      <th>income</th>\n",
       "      <th>sex_int</th>\n",
       "      <th>height</th>\n",
       "      <th>body_type_a little extra</th>\n",
       "      <th>body_type_athletic</th>\n",
       "      <th>body_type_average</th>\n",
       "      <th>body_type_curvy</th>\n",
       "      <th>body_type_fit</th>\n",
       "      <th>body_type_full figured</th>\n",
       "      <th>...</th>\n",
       "      <th>job_short_sales</th>\n",
       "      <th>job_short_science</th>\n",
       "      <th>job_short_student</th>\n",
       "      <th>job_short_transportation</th>\n",
       "      <th>job_short_unemployed</th>\n",
       "      <th>smokes_no</th>\n",
       "      <th>smokes_sometimes</th>\n",
       "      <th>smokes_trying to quit</th>\n",
       "      <th>smokes_when drinking</th>\n",
       "      <th>smokes_yes</th>\n",
       "    </tr>\n",
       "  </thead>\n",
       "  <tbody>\n",
       "    <tr>\n",
       "      <th>0</th>\n",
       "      <td>no</td>\n",
       "      <td>-1</td>\n",
       "      <td>1</td>\n",
       "      <td>75.0</td>\n",
       "      <td>1</td>\n",
       "      <td>0</td>\n",
       "      <td>0</td>\n",
       "      <td>0</td>\n",
       "      <td>0</td>\n",
       "      <td>0</td>\n",
       "      <td>...</td>\n",
       "      <td>0</td>\n",
       "      <td>0</td>\n",
       "      <td>0</td>\n",
       "      <td>1</td>\n",
       "      <td>0</td>\n",
       "      <td>0</td>\n",
       "      <td>1</td>\n",
       "      <td>0</td>\n",
       "      <td>0</td>\n",
       "      <td>0</td>\n",
       "    </tr>\n",
       "    <tr>\n",
       "      <th>1</th>\n",
       "      <td>no</td>\n",
       "      <td>80000</td>\n",
       "      <td>1</td>\n",
       "      <td>70.0</td>\n",
       "      <td>0</td>\n",
       "      <td>0</td>\n",
       "      <td>1</td>\n",
       "      <td>0</td>\n",
       "      <td>0</td>\n",
       "      <td>0</td>\n",
       "      <td>...</td>\n",
       "      <td>0</td>\n",
       "      <td>0</td>\n",
       "      <td>0</td>\n",
       "      <td>0</td>\n",
       "      <td>0</td>\n",
       "      <td>1</td>\n",
       "      <td>0</td>\n",
       "      <td>0</td>\n",
       "      <td>0</td>\n",
       "      <td>0</td>\n",
       "    </tr>\n",
       "    <tr>\n",
       "      <th>3</th>\n",
       "      <td>no</td>\n",
       "      <td>20000</td>\n",
       "      <td>1</td>\n",
       "      <td>71.0</td>\n",
       "      <td>0</td>\n",
       "      <td>0</td>\n",
       "      <td>0</td>\n",
       "      <td>0</td>\n",
       "      <td>0</td>\n",
       "      <td>0</td>\n",
       "      <td>...</td>\n",
       "      <td>0</td>\n",
       "      <td>0</td>\n",
       "      <td>1</td>\n",
       "      <td>0</td>\n",
       "      <td>0</td>\n",
       "      <td>1</td>\n",
       "      <td>0</td>\n",
       "      <td>0</td>\n",
       "      <td>0</td>\n",
       "      <td>0</td>\n",
       "    </tr>\n",
       "    <tr>\n",
       "      <th>4</th>\n",
       "      <td>no</td>\n",
       "      <td>-1</td>\n",
       "      <td>1</td>\n",
       "      <td>66.0</td>\n",
       "      <td>0</td>\n",
       "      <td>1</td>\n",
       "      <td>0</td>\n",
       "      <td>0</td>\n",
       "      <td>0</td>\n",
       "      <td>0</td>\n",
       "      <td>...</td>\n",
       "      <td>0</td>\n",
       "      <td>0</td>\n",
       "      <td>0</td>\n",
       "      <td>0</td>\n",
       "      <td>0</td>\n",
       "      <td>1</td>\n",
       "      <td>0</td>\n",
       "      <td>0</td>\n",
       "      <td>0</td>\n",
       "      <td>0</td>\n",
       "    </tr>\n",
       "    <tr>\n",
       "      <th>5</th>\n",
       "      <td>no</td>\n",
       "      <td>-1</td>\n",
       "      <td>1</td>\n",
       "      <td>67.0</td>\n",
       "      <td>0</td>\n",
       "      <td>0</td>\n",
       "      <td>1</td>\n",
       "      <td>0</td>\n",
       "      <td>0</td>\n",
       "      <td>0</td>\n",
       "      <td>...</td>\n",
       "      <td>0</td>\n",
       "      <td>0</td>\n",
       "      <td>0</td>\n",
       "      <td>0</td>\n",
       "      <td>0</td>\n",
       "      <td>1</td>\n",
       "      <td>0</td>\n",
       "      <td>0</td>\n",
       "      <td>0</td>\n",
       "      <td>0</td>\n",
       "    </tr>\n",
       "  </tbody>\n",
       "</table>\n",
       "<p>5 rows × 42 columns</p>\n",
       "</div>"
      ],
      "text/plain": [
       "  married_or_seeing  income  sex_int  height  body_type_a little extra  \\\n",
       "0                no      -1        1    75.0                         1   \n",
       "1                no   80000        1    70.0                         0   \n",
       "3                no   20000        1    71.0                         0   \n",
       "4                no      -1        1    66.0                         0   \n",
       "5                no      -1        1    67.0                         0   \n",
       "\n",
       "   body_type_athletic  body_type_average  body_type_curvy  body_type_fit  \\\n",
       "0                   0                  0                0              0   \n",
       "1                   0                  1                0              0   \n",
       "3                   0                  0                0              0   \n",
       "4                   1                  0                0              0   \n",
       "5                   0                  1                0              0   \n",
       "\n",
       "   body_type_full figured  ...  job_short_sales  job_short_science  \\\n",
       "0                       0  ...                0                  0   \n",
       "1                       0  ...                0                  0   \n",
       "3                       0  ...                0                  0   \n",
       "4                       0  ...                0                  0   \n",
       "5                       0  ...                0                  0   \n",
       "\n",
       "   job_short_student  job_short_transportation  job_short_unemployed  \\\n",
       "0                  0                         1                     0   \n",
       "1                  0                         0                     0   \n",
       "3                  1                         0                     0   \n",
       "4                  0                         0                     0   \n",
       "5                  0                         0                     0   \n",
       "\n",
       "   smokes_no  smokes_sometimes  smokes_trying to quit  smokes_when drinking  \\\n",
       "0          0                 1                      0                     0   \n",
       "1          1                 0                      0                     0   \n",
       "3          1                 0                      0                     0   \n",
       "4          1                 0                      0                     0   \n",
       "5          1                 0                      0                     0   \n",
       "\n",
       "   smokes_yes  \n",
       "0           0  \n",
       "1           0  \n",
       "3           0  \n",
       "4           0  \n",
       "5           0  \n",
       "\n",
       "[5 rows x 42 columns]"
      ]
     },
     "execution_count": 27,
     "metadata": {},
     "output_type": "execute_result"
    }
   ],
   "source": [
    "# now do decide whenever I want to use 'is_married' or 'married_or_seeing'\n",
    "# due the incredibly small amounts of yes in 'is_married', I will use 'married_or_seeing'\n",
    "\n",
    "db = db.drop('is_married', 1)\n",
    "db.head()"
   ]
  },
  {
   "cell_type": "code",
   "execution_count": 28,
   "metadata": {},
   "outputs": [],
   "source": [
    "from sklearn.model_selection import train_test_split\n",
    "from sklearn import tree\n",
    "from sklearn.ensemble import RandomForestClassifier\n",
    "from sklearn.linear_model import LogisticRegression\n",
    "\n",
    "col_length = len(db.columns)\n",
    "\n",
    "X = db.iloc[:, 1:col_length]\n",
    "y = db.iloc[:, 0:1]\n",
    "\n",
    "X_train, X_test, y_train, y_test = train_test_split(X, y, test_size = 0.2, random_state=42)\n",
    "\n",
    "y_train = y_train.to_numpy().ravel()\n",
    "y_test = y_test.to_numpy().ravel()"
   ]
  },
  {
   "cell_type": "code",
   "execution_count": 29,
   "metadata": {},
   "outputs": [],
   "source": [
    "linear_model = LogisticRegression()\n",
    "linear_model.fit(X_train, y_train)\n",
    "\n",
    "linear_score = linear_model.score(X_train, y_train)\n",
    "linear_test_score = linear_model.score(X_test, y_test)\n",
    "linear_coefficients = linear_model.coef_\n",
    "linear_predict = linear_model.predict(X_train)"
   ]
  },
  {
   "cell_type": "code",
   "execution_count": 30,
   "metadata": {},
   "outputs": [
    {
     "name": "stdout",
     "output_type": "stream",
     "text": [
      "Index(['married_or_seeing', 'income', 'sex_int', 'height',\n",
      "       'body_type_a little extra', 'body_type_athletic', 'body_type_average',\n",
      "       'body_type_curvy', 'body_type_fit', 'body_type_full figured',\n",
      "       'body_type_jacked', 'body_type_overweight', 'body_type_rather not say',\n",
      "       'body_type_skinny', 'body_type_thin', 'body_type_used up',\n",
      "       'job_short_artistic', 'job_short_banking', 'job_short_clerical',\n",
      "       'job_short_computer', 'job_short_construction', 'job_short_education',\n",
      "       'job_short_entertainment', 'job_short_executive',\n",
      "       'job_short_hospitality', 'job_short_law', 'job_short_medicine',\n",
      "       'job_short_military', 'job_short_other', 'job_short_political',\n",
      "       'job_short_rather', 'job_short_retired', 'job_short_sales',\n",
      "       'job_short_science', 'job_short_student', 'job_short_transportation',\n",
      "       'job_short_unemployed', 'smokes_no', 'smokes_sometimes',\n",
      "       'smokes_trying to quit', 'smokes_when drinking', 'smokes_yes'],\n",
      "      dtype='object')\n",
      "[[ 2.02577045e-07 -7.12963887e-04 -4.86244004e-02 -3.27962058e-05\n",
      "  -1.55228709e-04 -1.93912878e-04 -5.25182974e-05 -1.69424417e-04\n",
      "  -1.34638452e-05 -3.94025601e-06 -4.30458289e-06 -2.30861357e-06\n",
      "  -1.95454937e-05 -6.19070971e-05 -3.61349092e-06 -5.88693807e-05\n",
      "  -3.33712069e-05 -1.10270010e-05 -5.46703702e-05 -1.30451253e-05\n",
      "  -4.67795590e-05 -3.08474345e-05 -3.36155758e-05 -1.92271816e-05\n",
      "  -1.97454535e-05 -5.55037775e-05 -2.23069777e-06 -1.09727419e-04\n",
      "  -8.84917295e-06 -6.07852091e-06 -3.67214018e-06 -6.24189626e-05\n",
      "  -6.45801380e-05 -7.02712486e-05 -4.84994796e-06 -3.58357329e-06\n",
      "  -5.84927655e-04 -4.71510099e-05 -1.83428263e-05 -3.64873458e-05\n",
      "  -2.60550505e-05]]\n"
     ]
    },
    {
     "name": "stderr",
     "output_type": "stream",
     "text": [
      "C:\\Users\\robin\\anaconda3\\lib\\site-packages\\sklearn\\metrics\\_classification.py:1248: UndefinedMetricWarning: Precision and F-score are ill-defined and being set to 0.0 in labels with no predicted samples. Use `zero_division` parameter to control this behavior.\n",
      "  _warn_prf(average, modifier, msg_start, len(result))\n"
     ]
    },
    {
     "name": "stdout",
     "output_type": "stream",
     "text": [
      "              precision    recall  f1-score   support\n",
      "\n",
      "          no       0.96      1.00      0.98     34508\n",
      "         yes       0.00      0.00      0.00      1257\n",
      "\n",
      "    accuracy                           0.96     35765\n",
      "   macro avg       0.48      0.50      0.49     35765\n",
      "weighted avg       0.93      0.96      0.95     35765\n",
      "\n",
      "0.964853907451419\n",
      "0.9580630731380004\n"
     ]
    },
    {
     "name": "stderr",
     "output_type": "stream",
     "text": [
      "C:\\Users\\robin\\anaconda3\\lib\\site-packages\\sklearn\\metrics\\_classification.py:1248: UndefinedMetricWarning: Precision and F-score are ill-defined and being set to 0.0 in labels with no predicted samples. Use `zero_division` parameter to control this behavior.\n",
      "  _warn_prf(average, modifier, msg_start, len(result))\n",
      "C:\\Users\\robin\\anaconda3\\lib\\site-packages\\sklearn\\metrics\\_classification.py:1248: UndefinedMetricWarning: Precision and F-score are ill-defined and being set to 0.0 in labels with no predicted samples. Use `zero_division` parameter to control this behavior.\n",
      "  _warn_prf(average, modifier, msg_start, len(result))\n"
     ]
    }
   ],
   "source": [
    "from sklearn.metrics import classification_report\n",
    "\n",
    "print(db.columns)\n",
    "print(linear_coefficients)\n",
    "print(classification_report(y_train, linear_predict))\n",
    "print(linear_score)\n",
    "print(linear_test_score)"
   ]
  },
  {
   "cell_type": "code",
   "execution_count": 31,
   "metadata": {},
   "outputs": [
    {
     "name": "stdout",
     "output_type": "stream",
     "text": [
      "no     43075\n",
      "yes     1632\n",
      "Name: married_or_seeing, dtype: int64\n"
     ]
    }
   ],
   "source": [
    "print(db.married_or_seeing.value_counts())"
   ]
  },
  {
   "cell_type": "code",
   "execution_count": 32,
   "metadata": {},
   "outputs": [
    {
     "name": "stdout",
     "output_type": "stream",
     "text": [
      "0.9626639507154213\n"
     ]
    }
   ],
   "source": [
    "print(1-(1503/40256))"
   ]
  },
  {
   "cell_type": "code",
   "execution_count": 44,
   "metadata": {},
   "outputs": [],
   "source": [
    "# Sighs. So if the linear_model says 'no' it will be correct about 96% of the time. How do I fight this?\n",
    "# Testing a different model\n",
    "\n",
    "forest_model = RandomForestClassifier(n_estimators = 100)\n",
    "\n",
    "forest_model.fit(X_train, y_train)\n",
    "\n",
    "forest_score = forest_model.score(X_train, y_train)\n",
    "forest_test_score = forest_model.score(X_test, y_test)\n",
    "forest_predict = forest_model.predict(X_train)"
   ]
  },
  {
   "cell_type": "code",
   "execution_count": 45,
   "metadata": {},
   "outputs": [
    {
     "name": "stdout",
     "output_type": "stream",
     "text": [
      "              precision    recall  f1-score   support\n",
      "\n",
      "          no       0.97      1.00      0.99     34508\n",
      "         yes       0.79      0.25      0.37      1257\n",
      "\n",
      "    accuracy                           0.97     35765\n",
      "   macro avg       0.88      0.62      0.68     35765\n",
      "weighted avg       0.97      0.97      0.96     35765\n",
      "\n",
      "0.9712008947294841\n",
      "0.9531424737195259\n"
     ]
    }
   ],
   "source": [
    "print(classification_report(y_train, forest_predict))\n",
    "print(forest_score)\n",
    "print(forest_test_score)"
   ]
  },
  {
   "cell_type": "code",
   "execution_count": 35,
   "metadata": {},
   "outputs": [
    {
     "data": {
      "text/plain": [
       "'\\n              precision    recall  f1-score   support\\n\\n          no       0.98      1.00      0.99     32208\\n         yes       0.86      0.37      0.52      1199\\n\\n    accuracy                           0.98     33407\\n   macro avg       0.92      0.69      0.75     33407\\nweighted avg       0.97      0.98      0.97     33407\\n\\n0.9753644445774837\\n0.954621647509578\\n'"
      ]
     },
     "execution_count": 35,
     "metadata": {},
     "output_type": "execute_result"
    }
   ],
   "source": [
    "# RandomForest to the rescue!\n",
    "# First attempt, 500 trees\n",
    "\n",
    "\"\"\"\n",
    "              precision    recall  f1-score   support\n",
    "\n",
    "          no       0.98      1.00      0.99     32208\n",
    "         yes       0.99      0.42      0.59      1199\n",
    "\n",
    "    accuracy                           0.98     33407\n",
    "   macro avg       0.99      0.71      0.79     33407\n",
    "weighted avg       0.98      0.98      0.98     33407\n",
    "\n",
    "0.9791959768910707\n",
    "0.9571360153256705\n",
    "\"\"\"\n",
    "\n",
    "# secound attempt, to see if I can get a better fit, 250 trees\n",
    "\n",
    "\n",
    "'''\n",
    "              precision    recall  f1-score   support\n",
    "\n",
    "          no       0.98      1.00      0.99     32208\n",
    "         yes       0.98      0.43      0.60      1199\n",
    "\n",
    "    accuracy                           0.98     33407\n",
    "   macro avg       0.98      0.71      0.79     33407\n",
    "weighted avg       0.98      0.98      0.98     33407\n",
    "\n",
    "0.9791959768910707\n",
    "0.9565373563218391\n",
    "'''\n",
    "\n",
    "# Third attempt, 100 trees\n",
    "\n",
    "'''\n",
    "              precision    recall  f1-score   support\n",
    "\n",
    "          no       0.98      1.00      0.99     32208\n",
    "         yes       0.96      0.44      0.60      1199\n",
    "\n",
    "    accuracy                           0.98     33407\n",
    "   macro avg       0.97      0.72      0.79     33407\n",
    "weighted avg       0.98      0.98      0.98     33407\n",
    "\n",
    "0.9791660430448709\n",
    "0.9570162835249042\n",
    "'''\n",
    "\n",
    "# Fourth attempt, 50 trees\n",
    "\n",
    "'''\n",
    "              precision    recall  f1-score   support\n",
    "\n",
    "          no       0.98      1.00      0.99     32208\n",
    "         yes       0.96      0.43      0.60      1199\n",
    "\n",
    "    accuracy                           0.98     33407\n",
    "   macro avg       0.97      0.72      0.79     33407\n",
    "weighted avg       0.98      0.98      0.98     33407\n",
    "\n",
    "0.9789565061214716\n",
    "0.9564176245210728\n",
    "'''\n",
    "\n",
    "# Fifth attempt, 25 trees\n",
    "\n",
    "'''\n",
    "              precision    recall  f1-score   support\n",
    "\n",
    "          no       0.98      1.00      0.99     32208\n",
    "         yes       0.93      0.42      0.58      1199\n",
    "\n",
    "    accuracy                           0.98     33407\n",
    "   macro avg       0.96      0.71      0.79     33407\n",
    "weighted avg       0.98      0.98      0.97     33407\n",
    "\n",
    "0.978238093812674\n",
    "0.9566570881226054\n",
    "'''\n",
    "\n",
    "# Sixth attempt, 5 trees\n",
    "\n",
    "'''\n",
    "              precision    recall  f1-score   support\n",
    "\n",
    "          no       0.98      1.00      0.99     32208\n",
    "         yes       0.86      0.37      0.52      1199\n",
    "\n",
    "    accuracy                           0.98     33407\n",
    "   macro avg       0.92      0.69      0.75     33407\n",
    "weighted avg       0.97      0.98      0.97     33407\n",
    "\n",
    "0.9753644445774837\n",
    "0.954621647509578\n",
    "'''\n",
    "\n",
    "# From this the best ones seem to be ether the 100 tree one or the 250 tree one\n",
    "# I will be using the 100 tree one due secound best test data score (0.957). and reduced amount of resources it takes\n",
    "# This model can be used to find out how likely you are to meet someone. However, remember that I took in ethnicity?\n",
    "# The above ones are while using that feature. Now to see the results without using it.\n",
    "\n",
    "# Here is 500 trees without using ethnicity\n",
    "\n",
    "'''\n",
    "             precision    recall  f1-score   support\n",
    "\n",
    "          no       0.97      1.00      0.99     34508\n",
    "         yes       0.97      0.27      0.42      1257\n",
    "\n",
    "    accuracy                           0.97     35765\n",
    "   macro avg       0.97      0.63      0.70     35765\n",
    "weighted avg       0.97      0.97      0.97     35765\n",
    "\n",
    "0.9739969243673983\n",
    "0.9532543055244912\n",
    "'''\n",
    "\n",
    "# Here is 250 trees without using ethnicity\n",
    "\n",
    "'''\n",
    "              precision    recall  f1-score   support\n",
    "\n",
    "          no       0.97      1.00      0.99     34508\n",
    "         yes       0.97      0.27      0.42      1257\n",
    "\n",
    "    accuracy                           0.97     35765\n",
    "   macro avg       0.97      0.63      0.70     35765\n",
    "weighted avg       0.97      0.97      0.97     35765\n",
    "\n",
    "0.9739969243673983\n",
    "0.9534779691344218\n",
    "'''\n",
    "\n",
    "# Here is 100trees without using ethnicity\n",
    "\n",
    "'''\n",
    "              precision    recall  f1-score   support\n",
    "\n",
    "          no       0.97      1.00      0.99     34508\n",
    "         yes       0.97      0.27      0.42      1257\n",
    "\n",
    "    accuracy                           0.97     35765\n",
    "   macro avg       0.97      0.63      0.70     35765\n",
    "weighted avg       0.97      0.97      0.97     35765\n",
    "\n",
    "0.9739689640710192\n",
    "0.9529188101095951\n",
    "'''\n",
    "\n",
    "# Here is 50 trees without using ethnicity\n",
    "\n",
    "'''\n",
    "              precision    recall  f1-score   support\n",
    "\n",
    "          no       0.97      1.00      0.99     34508\n",
    "         yes       0.93      0.28      0.43      1257\n",
    "\n",
    "    accuracy                           0.97     35765\n",
    "   macro avg       0.95      0.64      0.71     35765\n",
    "weighted avg       0.97      0.97      0.97     35765\n",
    "\n",
    "0.9738850831818817\n",
    "0.9526951464996645\n",
    "'''\n",
    "\n",
    "# Here is 25 trees without using ethnicity\n",
    "\n",
    "'''\n",
    "              precision    recall  f1-score   support\n",
    "\n",
    "          no       0.97      1.00      0.99     34508\n",
    "         yes       0.92      0.26      0.41      1257\n",
    "\n",
    "    accuracy                           0.97     35765\n",
    "   macro avg       0.95      0.63      0.70     35765\n",
    "weighted avg       0.97      0.97      0.97     35765\n",
    "\n",
    "0.9732699566615406\n",
    "0.9515768284500112\n",
    "'''\n",
    "\n",
    "# Here is 5 trees without using ethnicity\n",
    "\n",
    "'''\n",
    "              precision    recall  f1-score   support\n",
    "\n",
    "          no       0.97      1.00      0.99     34508\n",
    "         yes       0.79      0.25      0.37      1257\n",
    "\n",
    "    accuracy                           0.97     35765\n",
    "   macro avg       0.88      0.62      0.68     35765\n",
    "weighted avg       0.97      0.97      0.96     35765\n",
    "\n",
    "0.9712008947294841\n",
    "0.9531424737195259\n",
    "'''\n",
    "\n",
    "# First, we can tell there are differences. \n",
    "# and since there are differences the model has taken a bias on ethnicity, and more than a little.\n",
    "# That was a fun experiment, rather important one to think about."
   ]
  },
  {
   "cell_type": "code",
   "execution_count": null,
   "metadata": {},
   "outputs": [],
   "source": [
    "# Conclusion. \n",
    "# This model can fairly accuratly give an estimate on your chances of ending up with someone\n",
    "# depending on your: sex, job, income, body type and your stance on smoking. Thus can be used for self improvement"
   ]
  }
 ],
 "metadata": {
  "kernelspec": {
   "display_name": "Python 3 (ipykernel)",
   "language": "python",
   "name": "python3"
  },
  "language_info": {
   "codemirror_mode": {
    "name": "ipython",
    "version": 3
   },
   "file_extension": ".py",
   "mimetype": "text/x-python",
   "name": "python",
   "nbconvert_exporter": "python",
   "pygments_lexer": "ipython3",
   "version": "3.9.7"
  }
 },
 "nbformat": 4,
 "nbformat_minor": 4
}
